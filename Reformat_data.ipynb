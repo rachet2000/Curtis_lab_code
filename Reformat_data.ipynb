{
 "cells": [
  {
   "cell_type": "code",
   "execution_count": null,
   "metadata": {
    "collapsed": true
   },
   "outputs": [],
   "source": [
    "#Notes\n",
    "\n",
    "# mvFile Name from dataRecord is structured into 60 x 5 numpy array\n",
    "# Every file name is of the same type: There does not seem to be a pattern to the numbers\n",
    "#Most of them are between 1 and 5\n",
    "\n",
    "\n",
    "\n",
    "#Every hc movie is repeated 5 times\n",
    "#Every hc_pred movie is repeated 20 times\n",
    "#Every hc_reg movie is repeated 20 times"
   ]
  },
  {
   "cell_type": "code",
   "execution_count": 3,
   "metadata": {},
   "outputs": [],
   "source": [
    "import scipy as sc\n",
    "from scipy import io\n",
    "import numpy as np\n",
    "\n",
    "#dat = sc.io.loadmat('H6214.010.mat')\n",
    "data = sc.io.loadmat('H6214.010_3_Ch48.mat')"
   ]
  },
  {
   "cell_type": "code",
   "execution_count": 127,
   "metadata": {},
   "outputs": [
    {
     "data": {
      "text/plain": [
       "range(0, 4)"
      ]
     },
     "execution_count": 127,
     "metadata": {},
     "output_type": "execute_result"
    }
   ],
   "source": []
  },
  {
   "cell_type": "code",
   "execution_count": 125,
   "metadata": {},
   "outputs": [
    {
     "data": {
      "text/plain": [
       "300"
      ]
     },
     "execution_count": 125,
     "metadata": {},
     "output_type": "execute_result"
    }
   ],
   "source": [
    "temp = []\n",
    "folder = 'dataRecord'\n",
    "subfolder = 'spkTimes'\n",
    "variable = data[folder][subfolder]\n",
    "\n",
    "for a in range(60):\n",
    "    for b in range(5):\n",
    "        temp.append(variable[a][b])\n",
    "        \n",
    "len(temp)"
   ]
  },
  {
   "cell_type": "code",
   "execution_count": 61,
   "metadata": {},
   "outputs": [
    {
     "data": {
      "text/plain": [
       "('iSweep',\n",
       " 'conIndex',\n",
       " 'muaRawSignal',\n",
       " 'durSecActual',\n",
       " 'elapsedSecs',\n",
       " 'mvFileName',\n",
       " 'spkTimes',\n",
       " 'movieFrameTimesDetected',\n",
       " 'epRawSignal')"
      ]
     },
     "execution_count": 61,
     "metadata": {},
     "output_type": "execute_result"
    }
   ],
   "source": [
    "data['dataRecord'].dtype.names\n"
   ]
  },
  {
   "cell_type": "code",
   "execution_count": 117,
   "metadata": {},
   "outputs": [
    {
     "data": {
      "text/plain": [
       "array([ array([[ 6801,  6826,  6844,  7917,  7952, 11027, 19292, 25601, 28190,\n",
       "        29624, 31708, 38327, 38365, 40980, 43106, 44243, 44779, 44819,\n",
       "        51582, 51623, 53301, 53394]], dtype=uint16),\n",
       "       array([[ 5136, 10578, 13434, 17880, 18638, 25709, 27565, 40120, 50697,\n",
       "        52198]], dtype=uint16),\n",
       "       array([[ 5895,  6554,  8691,  8733, 10988, 11016, 15117, 22595, 26584,\n",
       "        32478, 39503, 43586, 51455]], dtype=uint16),\n",
       "       array([[ 6694,  9825, 15735, 15786, 15819, 17456, 19890, 23732, 24377,\n",
       "        26459, 30562, 36391, 39487, 41737, 43705, 47018, 48685]], dtype=uint16),\n",
       "       array([[11178, 13091, 13154, 13338, 17684, 23594, 23628, 24722, 26266,\n",
       "        27597, 31580, 33553, 35912, 35953, 38189, 38206, 39561, 40460,\n",
       "        42079, 44670, 46177, 49319, 51305, 51318]], dtype=uint16)], dtype=object)"
      ]
     },
     "execution_count": 117,
     "metadata": {},
     "output_type": "execute_result"
    }
   ],
   "source": [
    "data['dataRecord']['spkTimes'][]"
   ]
  },
  {
   "cell_type": "code",
   "execution_count": 85,
   "metadata": {},
   "outputs": [
    {
     "data": {
      "text/plain": [
       "20"
      ]
     },
     "execution_count": 85,
     "metadata": {},
     "output_type": "execute_result"
    }
   ],
   "source": [
    "len(data['dataRecord']['mvFileName'][data['dataRecord']['mvFileName'] == 'McGill_clips_hc_pred_0000_02'])"
   ]
  }
 ],
 "metadata": {
  "kernelspec": {
   "display_name": "Python 3",
   "language": "python",
   "name": "python3"
  },
  "language_info": {
   "codemirror_mode": {
    "name": "ipython",
    "version": 3
   },
   "file_extension": ".py",
   "mimetype": "text/x-python",
   "name": "python",
   "nbconvert_exporter": "python",
   "pygments_lexer": "ipython3",
   "version": "3.6.3"
  }
 },
 "nbformat": 4,
 "nbformat_minor": 2
}
